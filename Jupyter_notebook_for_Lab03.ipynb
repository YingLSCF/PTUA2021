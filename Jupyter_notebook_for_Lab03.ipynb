{
 "cells": [
  {
   "cell_type": "markdown",
   "id": "functioning-gross",
   "metadata": {},
   "source": [
    "# Chapter 2, Operator<br>Exercise 1-2"
   ]
  },
  {
   "cell_type": "markdown",
   "id": "wireless-planet",
   "metadata": {},
   "source": [
    "### Exercise 1"
   ]
  },
  {
   "cell_type": "markdown",
   "id": "reflected-shuttle",
   "metadata": {},
   "source": [
    "- We’ve seen that n = 42 is legal. What about 42 = n?"
   ]
  },
  {
   "cell_type": "code",
   "execution_count": 43,
   "id": "confident-asset",
   "metadata": {},
   "outputs": [
    {
     "ename": "SyntaxError",
     "evalue": "cannot assign to literal (<ipython-input-43-25b4f2673d08>, line 1)",
     "output_type": "error",
     "traceback": [
      "\u001b[0;36m  File \u001b[0;32m\"<ipython-input-43-25b4f2673d08>\"\u001b[0;36m, line \u001b[0;32m1\u001b[0m\n\u001b[0;31m    42 = n  #It will show illegal, due to the assignemnt is illegla to literal.\u001b[0m\n\u001b[0m    ^\u001b[0m\n\u001b[0;31mSyntaxError\u001b[0m\u001b[0;31m:\u001b[0m cannot assign to literal\n"
     ]
    }
   ],
   "source": [
    "42 = n  #It will show illegal, due to the assignemnt is illegla to literal."
   ]
  },
  {
   "cell_type": "markdown",
   "id": "sustained-cooking",
   "metadata": {},
   "source": [
    "- How about x = y = 1?"
   ]
  },
  {
   "cell_type": "code",
   "execution_count": 44,
   "id": "appointed-large",
   "metadata": {},
   "outputs": [
    {
     "name": "stdout",
     "output_type": "stream",
     "text": [
      "1\n",
      "1\n"
     ]
    }
   ],
   "source": [
    "x = y = 1 # It is legal which means x and y are all assigned by 1 respectively, we could check the result by print(x) and print(y).\n",
    "print(y)\n",
    "print(x)"
   ]
  },
  {
   "cell_type": "markdown",
   "id": "blank-means",
   "metadata": {},
   "source": [
    "- In some languages every statement ends with a semi-colon, ;. What happens if you put a semi-colon at the end of a Python statement?"
   ]
  },
  {
   "cell_type": "code",
   "execution_count": 45,
   "id": "acknowledged-operations",
   "metadata": {},
   "outputs": [
    {
     "name": "stdout",
     "output_type": "stream",
     "text": [
      "[1, 3, 5, 7, 9, 11, 13, 15, 17, 19, 21, 23, 25, 27, 29, 31, 33, 35, 37, 39, 41, 43, 45, 47, 49, 51, 53, 55, 57, 59, 61, 63, 65, 67, 69, 71, 73, 75, 77, 79, 81, 83, 85, 87, 89, 91, 93, 95, 97, 99]\n"
     ]
    }
   ],
   "source": [
    "print(list(x for x in range(0, 101) if x % 2 != 0)); # The result shows that a semi-colon at the end of a Python statement can not bring out any particular results."
   ]
  },
  {
   "cell_type": "markdown",
   "id": "administrative-insurance",
   "metadata": {},
   "source": [
    "- What if you put a period at the end of a statement?"
   ]
  },
  {
   "cell_type": "code",
   "execution_count": 46,
   "id": "biological-atlantic",
   "metadata": {},
   "outputs": [
    {
     "ename": "SyntaxError",
     "evalue": "invalid syntax (<ipython-input-46-114df437df05>, line 1)",
     "output_type": "error",
     "traceback": [
      "\u001b[0;36m  File \u001b[0;32m\"<ipython-input-46-114df437df05>\"\u001b[0;36m, line \u001b[0;32m1\u001b[0m\n\u001b[0;31m    print(list(x for x in range(0, 101) if x % 2 != 0)). # The result shows that the period will cause a syntax. THe period sign is generally reserved for accessing methods/attributes of an instance of a class or functions in a model. (From https://www.quora.com/In-Python-coding-what-if-you-put-a-period-at-the-end-of-a-statement)\u001b[0m\n\u001b[0m                                                         ^\u001b[0m\n\u001b[0;31mSyntaxError\u001b[0m\u001b[0;31m:\u001b[0m invalid syntax\n"
     ]
    }
   ],
   "source": [
    "print(list(x for x in range(0, 101) if x % 2 != 0)). # The result shows that the period will cause a syntax. THe period sign is generally reserved for accessing methods/attributes of an instance of a class or functions in a model. (From https://www.quora.com/In-Python-coding-what-if-you-put-a-period-at-the-end-of-a-statement)"
   ]
  },
  {
   "cell_type": "code",
   "execution_count": 47,
   "id": "complicated-workshop",
   "metadata": {},
   "outputs": [],
   "source": [
    "x = 1. # However, if the period is at the end of a number, the interpreter will read the number as a float (one decimal float number)."
   ]
  },
  {
   "cell_type": "markdown",
   "id": "spectacular-robinson",
   "metadata": {},
   "source": [
    "- In math notation you can multiply x and y like this: x y. What happens if you try that in Python?"
   ]
  },
  {
   "cell_type": "code",
   "execution_count": 48,
   "id": "developed-heather",
   "metadata": {},
   "outputs": [
    {
     "ename": "SyntaxError",
     "evalue": "invalid syntax (<ipython-input-48-324dfefa16ea>, line 1)",
     "output_type": "error",
     "traceback": [
      "\u001b[0;36m  File \u001b[0;32m\"<ipython-input-48-324dfefa16ea>\"\u001b[0;36m, line \u001b[0;32m1\u001b[0m\n\u001b[0;31m    x = 3; y = 4; print(x y) # The result shows that the x y is invalid and it does not have any meaning in Python.\u001b[0m\n\u001b[0m                          ^\u001b[0m\n\u001b[0;31mSyntaxError\u001b[0m\u001b[0;31m:\u001b[0m invalid syntax\n"
     ]
    }
   ],
   "source": [
    "x = 3; y = 4; print(x y) # The result shows that the x y is invalid and it does not have any meaning in Python."
   ]
  },
  {
   "cell_type": "markdown",
   "id": "reported-missouri",
   "metadata": {},
   "source": [
    "### Exercise 2"
   ]
  },
  {
   "cell_type": "markdown",
   "id": "victorian-accessory",
   "metadata": {},
   "source": [
    "1. The volume of a sphere with radius r is 4/3 π r^3. What is the volume of a sphere with radius 5?"
   ]
  },
  {
   "cell_type": "code",
   "execution_count": 57,
   "id": "systematic-agenda",
   "metadata": {},
   "outputs": [
    {
     "name": "stdout",
     "output_type": "stream",
     "text": [
      "The volume of a sphere with radius 5 is: 523.599\n"
     ]
    }
   ],
   "source": [
    "import math\n",
    "math.pi\n",
    "r = 5\n",
    "sphere = 4/3 * math.pi\n",
    "volume_r5 = sphere * r**3\n",
    "print('The volume of a sphere with radius 5 is:', float(str(round(volume_r5, 3))))"
   ]
  },
  {
   "cell_type": "markdown",
   "id": "regulated-cathedral",
   "metadata": {},
   "source": [
    "2. Suppose the cover price of a book is $24.95, but bookstores get a 40% discount. Shipping costs $3 for the first copy and 75 cents for each additional copy. What is the total wholesale cost for 60 copies?"
   ]
  },
  {
   "cell_type": "code",
   "execution_count": 58,
   "id": "elder-attachment",
   "metadata": {},
   "outputs": [
    {
     "ename": "SyntaxError",
     "evalue": "invalid syntax (<ipython-input-58-97488e9b8888>, line 7)",
     "output_type": "error",
     "traceback": [
      "\u001b[0;36m  File \u001b[0;32m\"<ipython-input-58-97488e9b8888>\"\u001b[0;36m, line \u001b[0;32m7\u001b[0m\n\u001b[0;31m    if copy_num = 1:\u001b[0m\n\u001b[0m                ^\u001b[0m\n\u001b[0;31mSyntaxError\u001b[0m\u001b[0;31m:\u001b[0m invalid syntax\n"
     ]
    }
   ],
   "source": [
    "cover_price = 24.95\n",
    "discount = 0.60\n",
    "price = cover_price * discount\n",
    "first_shipping_cost = 3\n",
    "additional_shipping_cost = 0.75\n",
    "copy_num = 60\n",
    "if copy_num = 1:\n",
    "    total_wholesale_cost = price + first_shipping_cost\n",
    "    elif copy_num >1:\n",
    "        total_wholesale_cost = price * copy_num + first_shipping_cost + (copy_num - 1) * additional_shipping_cost\n",
    "        else:\n",
    "            total_wholesale_cost = 0\n",
    "print('The total wholesale cost for 60 copies:')\n",
    "total_wholesale_cost = \"${:,.2f}\".format(amount)\n",
    "print(total_wholesale_cost)\n",
    "\n",
    "# Hi Qunshan, I still do not know what's wrong with my codes after I tried to change the 'if copy_num' name many times. Would you please tell me the mistakes of my codes?"
   ]
  },
  {
   "cell_type": "code",
   "execution_count": 69,
   "id": "intensive-voice",
   "metadata": {},
   "outputs": [
    {
     "name": "stdout",
     "output_type": "stream",
     "text": [
      "The total wholesale cost for 60 copies is: $ 945.450\n"
     ]
    }
   ],
   "source": [
    "# I used another way to do question 2\n",
    "cover_price = 24.95\n",
    "discount = 0.60\n",
    "price = cover_price * discount\n",
    "first_shipping_cost = 3\n",
    "additional_shipping_cost = 0.75\n",
    "copy_num = 60\n",
    "total_wholesale_cost = price * copy_num + first_shipping_cost + additional_shipping_cost * (copy_num - 1)\n",
    "print('The total wholesale cost for 60 copies is:', \"${: .3f}\".format(total_wholesale_cost))"
   ]
  },
  {
   "cell_type": "markdown",
   "id": "significant-contact",
   "metadata": {},
   "source": [
    "3. If I leave my house at 6:52 am and run 1 mile at an easy pace (8:15 per mile), then 3 miles at tempo (7:12 per mile) and 1 mile at easy pace again, what time do I get home for breakfast?`"
   ]
  },
  {
   "cell_type": "code",
   "execution_count": 72,
   "id": "automated-pricing",
   "metadata": {},
   "outputs": [
    {
     "name": "stdout",
     "output_type": "stream",
     "text": [
      "The time when I get home for breakfast is at: 7:30:06\n"
     ]
    }
   ],
   "source": [
    "import datetime\n",
    "leave_house_time = datetime.timedelta(hours = 6, minutes = 52, seconds = 0)\n",
    "ep_time = 2 * datetime.timedelta(hours = 0, minutes = 8, seconds = 15)\n",
    "tempo_time = 3 * datetime.timedelta(hours = 0, minutes = 7, seconds = 12)\n",
    "breakfast_time = tempo_time + ep_time + leave_house_time\n",
    "print('The time when I get home for breakfast is at:', breakfast_time)"
   ]
  },
  {
   "cell_type": "markdown",
   "id": "surgical-antique",
   "metadata": {},
   "source": [
    "# Chapter 8, Strings<br>Exercise 1-5"
   ]
  },
  {
   "cell_type": "markdown",
   "id": "harmful-acting",
   "metadata": {},
   "source": [
    "### 8.3 Traversal with a for loop"
   ]
  },
  {
   "cell_type": "markdown",
   "id": "forced-assets",
   "metadata": {},
   "source": [
    "#### As an exercise, write a function that takes a string as an argument and displays the letters backward, one per line."
   ]
  },
  {
   "cell_type": "code",
   "execution_count": 73,
   "id": "grand-coffee",
   "metadata": {},
   "outputs": [
    {
     "name": "stdout",
     "output_type": "stream",
     "text": [
      "a\n",
      "n\n",
      "a\n",
      "n\n",
      "a\n",
      "b\n"
     ]
    },
    {
     "ename": "IndexError",
     "evalue": "string index out of range",
     "output_type": "error",
     "traceback": [
      "\u001b[0;31m---------------------------------------------------------------------------\u001b[0m",
      "\u001b[0;31mIndexError\u001b[0m                                Traceback (most recent call last)",
      "\u001b[0;32m<ipython-input-73-2ddc4c8b96d9>\u001b[0m in \u001b[0;36m<module>\u001b[0;34m\u001b[0m\n\u001b[1;32m      2\u001b[0m \u001b[0mindex\u001b[0m \u001b[0;34m=\u001b[0m \u001b[0;34m-\u001b[0m\u001b[0;36m1\u001b[0m\u001b[0;34m;\u001b[0m\u001b[0;34m\u001b[0m\u001b[0;34m\u001b[0m\u001b[0m\n\u001b[1;32m      3\u001b[0m \u001b[0;32mwhile\u001b[0m \u001b[0mindex\u001b[0m \u001b[0;34m<\u001b[0m \u001b[0mlen\u001b[0m\u001b[0;34m(\u001b[0m\u001b[0mfruit\u001b[0m\u001b[0;34m)\u001b[0m\u001b[0;34m:\u001b[0m\u001b[0;34m\u001b[0m\u001b[0;34m\u001b[0m\u001b[0m\n\u001b[0;32m----> 4\u001b[0;31m     \u001b[0mletter\u001b[0m \u001b[0;34m=\u001b[0m \u001b[0mfruit\u001b[0m\u001b[0;34m[\u001b[0m\u001b[0mindex\u001b[0m\u001b[0;34m]\u001b[0m\u001b[0;34m\u001b[0m\u001b[0;34m\u001b[0m\u001b[0m\n\u001b[0m\u001b[1;32m      5\u001b[0m     \u001b[0mprint\u001b[0m\u001b[0;34m(\u001b[0m\u001b[0mletter\u001b[0m\u001b[0;34m)\u001b[0m\u001b[0;34m\u001b[0m\u001b[0;34m\u001b[0m\u001b[0m\n\u001b[1;32m      6\u001b[0m     \u001b[0mindex\u001b[0m \u001b[0;34m=\u001b[0m \u001b[0mindex\u001b[0m \u001b[0;34m-\u001b[0m \u001b[0;36m1\u001b[0m\u001b[0;34m\u001b[0m\u001b[0;34m\u001b[0m\u001b[0m\n",
      "\u001b[0;31mIndexError\u001b[0m: string index out of range"
     ]
    }
   ],
   "source": [
    "fruit = 'banana'\n",
    "index = -1;\n",
    "while index < len(fruit):\n",
    "    letter = fruit[index]\n",
    "    print(letter)\n",
    "    index = index - 1"
   ]
  },
  {
   "cell_type": "markdown",
   "id": "retired-application",
   "metadata": {},
   "source": [
    "##### or"
   ]
  },
  {
   "cell_type": "code",
   "execution_count": 74,
   "id": "arbitrary-geology",
   "metadata": {},
   "outputs": [
    {
     "name": "stdout",
     "output_type": "stream",
     "text": [
      "a\n",
      "n\n",
      "a\n",
      "n\n",
      "a\n",
      "b\n"
     ]
    }
   ],
   "source": [
    "fruit = 'ananab'\n",
    "index = 0;\n",
    "while index < len(fruit):\n",
    "    letter = fruit[index]\n",
    "    print(letter)\n",
    "    index = index + 1"
   ]
  },
  {
   "cell_type": "markdown",
   "id": "flexible-recognition",
   "metadata": {},
   "source": [
    "#### Of course, that’s not quite right because “Ouack” and “Quack” are misspelled. As an exercise, modify the program to fix this error. "
   ]
  },
  {
   "cell_type": "code",
   "execution_count": 75,
   "id": "developed-lease",
   "metadata": {},
   "outputs": [
    {
     "name": "stdout",
     "output_type": "stream",
     "text": [
      "Jack\n",
      "Kack\n",
      "Lack\n",
      "Mack\n",
      "Nack\n",
      "Ouack\n",
      "Pack\n",
      "Quack\n"
     ]
    }
   ],
   "source": [
    "prefixes = 'JKLMNOPQ'\n",
    "suffix = 'ack'\n",
    "suffix1 = 'uack'\n",
    "for letter in prefixes:\n",
    "    if letter == 'O' or letter == 'Q' :\n",
    "        print(letter + suffix1)\n",
    "    else:\n",
    "        print(letter + suffix)"
   ]
  },
  {
   "cell_type": "markdown",
   "id": "right-spectrum",
   "metadata": {},
   "source": [
    "#### Continuing this example, what do you think fruit[:] means? Try it and see."
   ]
  },
  {
   "cell_type": "code",
   "execution_count": 76,
   "id": "reduced-gamma",
   "metadata": {},
   "outputs": [
    {
     "data": {
      "text/plain": [
       "'banana'"
      ]
     },
     "execution_count": 76,
     "metadata": {},
     "output_type": "execute_result"
    }
   ],
   "source": [
    "fruit = 'banana'\n",
    "fruit[:]"
   ]
  },
  {
   "cell_type": "markdown",
   "id": "legal-principle",
   "metadata": {},
   "source": [
    "### 8.6  Searching"
   ]
  },
  {
   "cell_type": "markdown",
   "id": "chemical-brazil",
   "metadata": {},
   "source": [
    "#### As an exercise, modify find so that it has a third parameter, the index in word where it should start looking."
   ]
  },
  {
   "cell_type": "code",
   "execution_count": 77,
   "id": "light-cholesterol",
   "metadata": {},
   "outputs": [],
   "source": [
    "def find(word, apple, banana):\n",
    "    for  index in range(banana, len(word) + 1):\n",
    "        if word[index] == apple:\n",
    "            return index\n",
    "        return -1"
   ]
  },
  {
   "cell_type": "markdown",
   "id": "rough-cause",
   "metadata": {},
   "source": [
    "<br>"
   ]
  },
  {
   "cell_type": "markdown",
   "id": "choice-writer",
   "metadata": {},
   "source": [
    "### 8.7  Looping and counting"
   ]
  },
  {
   "cell_type": "markdown",
   "id": "coral-settlement",
   "metadata": {},
   "source": [
    "#### As an exercise, encapsulate this code in a function named count, and generalize it so that it accepts the string and the letter as arguments."
   ]
  },
  {
   "cell_type": "code",
   "execution_count": 78,
   "id": "right-trail",
   "metadata": {},
   "outputs": [
    {
     "ename": "SyntaxError",
     "evalue": "invalid syntax (<ipython-input-78-233cbc0dc532>, line 1)",
     "output_type": "error",
     "traceback": [
      "\u001b[0;36m  File \u001b[0;32m\"<ipython-input-78-233cbc0dc532>\"\u001b[0;36m, line \u001b[0;32m1\u001b[0m\n\u001b[0;31m    def count(a, banana) #banana is the string, LETTER is the letter\u001b[0m\n\u001b[0m                         ^\u001b[0m\n\u001b[0;31mSyntaxError\u001b[0m\u001b[0;31m:\u001b[0m invalid syntax\n"
     ]
    }
   ],
   "source": [
    "def count(a, banana) #banana is the string, LETTER is the letter\n",
    "count = 0\n",
    "for letter in banana:\n",
    "    if letter == a:\n",
    "        count = count + 1\n",
    "print(count)"
   ]
  },
  {
   "cell_type": "code",
   "execution_count": 79,
   "id": "expected-anxiety",
   "metadata": {},
   "outputs": [
    {
     "name": "stdout",
     "output_type": "stream",
     "text": [
      "3\n"
     ]
    }
   ],
   "source": [
    "word = 'banana'\n",
    "count = 0\n",
    "for letter in word:\n",
    "    if letter == 'a':\n",
    "        count = count + 1\n",
    "print(count)"
   ]
  },
  {
   "cell_type": "code",
   "execution_count": 80,
   "id": "powered-sentence",
   "metadata": {},
   "outputs": [
    {
     "name": "stdout",
     "output_type": "stream",
     "text": [
      "a\n",
      "e\n",
      "s\n"
     ]
    }
   ],
   "source": [
    "in_both('apples', 'oranges')"
   ]
  },
  {
   "cell_type": "markdown",
   "id": "proof-calvin",
   "metadata": {},
   "source": [
    "### Exercise 1"
   ]
  },
  {
   "cell_type": "markdown",
   "id": "linear-poison",
   "metadata": {},
   "source": [
    "*Read the documentation of the string methods at http://docs.python.org/3/library/stdtypes.html#string-methods. You might want to experiment with some of them to make sure you understand how they work. strip and replace are particularly useful.<br>\n",
    "The documentation uses a syntax that might be confusing. For example, in find(sub[, start[, end]]), the brackets indicate optional arguments. So sub is required, but start is optional, and if you include start, then end is optional.*"
   ]
  },
  {
   "cell_type": "code",
   "execution_count": null,
   "id": "quick-scale",
   "metadata": {},
   "outputs": [],
   "source": []
  },
  {
   "cell_type": "code",
   "execution_count": null,
   "id": "desirable-ordering",
   "metadata": {},
   "outputs": [],
   "source": []
  },
  {
   "cell_type": "markdown",
   "id": "bound-manhattan",
   "metadata": {},
   "source": [
    "### Exercise 2 "
   ]
  },
  {
   "cell_type": "markdown",
   "id": "demanding-interview",
   "metadata": {},
   "source": [
    "*There is a string method called count that is similar to the function in Section 8.7. Read the documentation of this method and write an invocation that counts the number of a’s in 'banana'.*"
   ]
  },
  {
   "cell_type": "code",
   "execution_count": 42,
   "id": "intended-intent",
   "metadata": {},
   "outputs": [
    {
     "data": {
      "text/plain": [
       "3"
      ]
     },
     "execution_count": 42,
     "metadata": {},
     "output_type": "execute_result"
    }
   ],
   "source": [
    "word = 'banana'\n",
    "word.count('a')"
   ]
  },
  {
   "cell_type": "markdown",
   "id": "quarterly-dynamics",
   "metadata": {},
   "source": [
    "### Exercise 3"
   ]
  },
  {
   "cell_type": "markdown",
   "id": "portable-advisory",
   "metadata": {},
   "source": [
    "*A string slice can take a third index that specifies the “step size”; that is, the number of spaces between successive characters. A step size of 2 means every other character; 3 means every third, etc.*<br>\n",
    "###### >>> fruit = 'banana'<br>>>> fruit[0:5:2]<br>'bnn'\n",
    "*A step size of -1 goes through the word backwards, so the slice [::-1] generates a reversed string.<br>\n",
    "Use this idiom to write a one-line version of is_palindrome from Exercise 3.*"
   ]
  },
  {
   "cell_type": "code",
   "execution_count": 94,
   "id": "egyptian-stevens",
   "metadata": {},
   "outputs": [
    {
     "data": {
      "text/plain": [
       "'sb'"
      ]
     },
     "execution_count": 94,
     "metadata": {},
     "output_type": "execute_result"
    }
   ],
   "source": [
    "fruit = 'strawberry'\n",
    "fruit[0:9:5]"
   ]
  },
  {
   "cell_type": "code",
   "execution_count": 103,
   "id": "given-syndrome",
   "metadata": {},
   "outputs": [],
   "source": [
    "def is_palindrome(word):\n",
    "    if first(word) == last(word):\n",
    "        if len(word) <= 0:\n",
    "            return True\n",
    "        else:\n",
    "            return is_palindrome (middle(word)) \n",
    "    else:\n",
    "        return False"
   ]
  },
  {
   "cell_type": "markdown",
   "id": "upset-webster",
   "metadata": {},
   "source": [
    "### Exercise 4"
   ]
  },
  {
   "cell_type": "markdown",
   "id": "young-strip",
   "metadata": {},
   "source": [
    "*The following functions are all intended to check whether a string contains any lowercase letters, but at least some of them are wrong. For each function, describe what the function actually does (assuming that the parameter is a string).*"
   ]
  },
  {
   "cell_type": "code",
   "execution_count": 106,
   "id": "alien-scheme",
   "metadata": {},
   "outputs": [],
   "source": [
    "def any_lowercase1(s): # This function is for checking the first letter of string s.\n",
    "    for c in s:\n",
    "        if c.islower():\n",
    "            return True\n",
    "        else:\n",
    "            return False\n",
    "\n",
    "def any_lowercase2(s):\n",
    "    for c in s:\n",
    "        if 'c'.islower(): # The 's' is wrong, it is a syntax error because the single quote could not be used for invocation.\n",
    "            return 'True'\n",
    "        else:\n",
    "            return 'False'\n",
    "\n",
    "def any_lowercase3(s): #\n",
    "    for c in s:\n",
    "        flag = c.islower()\n",
    "    return flag\n",
    "\n",
    "def any_lowercase4(s): #This one could check a string contains any lowercase letters. ☑️\n",
    "    flag = False\n",
    "    for c in s:\n",
    "        flag = flag or c.islower()\n",
    "    return flag\n",
    "\n",
    "def any_lowercase5(s): #This function will only Return True for all lower cases letters in string s\n",
    "    for c in s:\n",
    "        if not c.islower():\n",
    "            return False\n",
    "    return True"
   ]
  },
  {
   "cell_type": "markdown",
   "id": "numerous-bunny",
   "metadata": {},
   "source": [
    "### Exercise 5"
   ]
  },
  {
   "cell_type": "markdown",
   "id": "sufficient-marshall",
   "metadata": {},
   "source": [
    "*A Caesar cypher is a weak form of encryption that involves “rotating” each letter by a fixed number of places. To rotate a letter means to shift it through the alphabet, wrapping around to the beginning if necessary, so ’A’ rotated by 3 is ’D’ and ’Z’ rotated by 1 is ’A’.<br>To rotate a word, rotate each letter by the same amount. For example, “cheer” rotated by 7 is “jolly” and “melon” rotated by -10 is “cubed”. In the movie 2001: A Space Odyssey, the ship computer is called HAL, which is IBM rotated by -1.<br><br>Write a function called rotate_word that takes a string and an integer as parameters, and returns a new string that contains the letters from the original string rotated by the given amount.<br><br>You might want to use the built-in function ord, which converts a character to a numeric code, and chr, which converts numeric codes to characters. Letters of the alphabet are encoded in alphabetical order, so for example:<br><br>ord('c') - ord('a')<br>2<br><br>Because 'c' is the two-eth letter of the alphabet. But beware: the numeric codes for upper case letters are different.*\n",
    "\n"
   ]
  },
  {
   "cell_type": "code",
   "execution_count": 128,
   "id": "alert-textbook",
   "metadata": {},
   "outputs": [],
   "source": [
    "word = 'lasifasdjfhads'\n",
    "integer = 10\n",
    "def rotate_word(word, integer):\n",
    "    return_value = \"\"\n",
    "    for letter in word:\n",
    "        if letter.isupper():\n",
    "            letter = letter.lower()\n",
    "        letter_to_num = ord(letter) + integer\n",
    "        rotate_letter = chr(letter_to_num)\n",
    "        return_value = rotate_letter\n",
    "        print(return_value)\n",
    "# ord() the return value of which is decimal system number"
   ]
  }
 ],
 "metadata": {
  "kernelspec": {
   "display_name": "Python 3",
   "language": "python",
   "name": "python3"
  },
  "language_info": {
   "codemirror_mode": {
    "name": "ipython",
    "version": 3
   },
   "file_extension": ".py",
   "mimetype": "text/x-python",
   "name": "python",
   "nbconvert_exporter": "python",
   "pygments_lexer": "ipython3",
   "version": "3.9.1"
  }
 },
 "nbformat": 4,
 "nbformat_minor": 5
}
