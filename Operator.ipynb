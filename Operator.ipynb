{
 "cells": [
  {
   "cell_type": "markdown",
   "id": "hollow-broadway",
   "metadata": {},
   "source": [
    "# Exercise 1"
   ]
  },
  {
   "cell_type": "markdown",
   "id": "appropriate-washington",
   "metadata": {},
   "source": [
    "- We’ve seen that n = 42 is legal. What about 42 = n?"
   ]
  },
  {
   "cell_type": "code",
   "execution_count": null,
   "id": "round-saying",
   "metadata": {},
   "outputs": [],
   "source": [
    "42 = n  #It will show illegal, due to the assignemnt is illegla to literal."
   ]
  },
  {
   "cell_type": "markdown",
   "id": "greater-porter",
   "metadata": {},
   "source": [
    "- How about x = y = 1?"
   ]
  },
  {
   "cell_type": "code",
   "execution_count": null,
   "id": "marked-hollow",
   "metadata": {},
   "outputs": [],
   "source": [
    "x = y = 1 # It is legal which means x and y are all assigned by 1 respectively, we could check the result by print(x) and print(y).\n",
    "print(y)\n",
    "print(x)"
   ]
  },
  {
   "cell_type": "markdown",
   "id": "collective-referral",
   "metadata": {},
   "source": [
    "- In some languages every statement ends with a semi-colon, ;. What happens if you put a semi-colon at the end of a Python statement?"
   ]
  },
  {
   "cell_type": "code",
   "execution_count": 15,
   "id": "hollywood-island",
   "metadata": {},
   "outputs": [
    {
     "name": "stdout",
     "output_type": "stream",
     "text": [
      "[1, 3, 5, 7, 9, 11, 13, 15, 17, 19, 21, 23, 25, 27, 29, 31, 33, 35, 37, 39, 41, 43, 45, 47, 49, 51, 53, 55, 57, 59, 61, 63, 65, 67, 69, 71, 73, 75, 77, 79, 81, 83, 85, 87, 89, 91, 93, 95, 97, 99]\n"
     ]
    }
   ],
   "source": [
    "print(list(x for x in range(0, 101) if x % 2 != 0)); # The result shows that a semi-colon at the end of a Python statement can not bring out any particular results."
   ]
  },
  {
   "cell_type": "markdown",
   "id": "recovered-attribute",
   "metadata": {},
   "source": [
    "- What if you put a period at the end of a statement?"
   ]
  },
  {
   "cell_type": "code",
   "execution_count": 16,
   "id": "minimal-mechanism",
   "metadata": {},
   "outputs": [
    {
     "ename": "SyntaxError",
     "evalue": "invalid syntax (<ipython-input-16-8597d1e8f695>, line 1)",
     "output_type": "error",
     "traceback": [
      "\u001b[0;36m  File \u001b[0;32m\"<ipython-input-16-8597d1e8f695>\"\u001b[0;36m, line \u001b[0;32m1\u001b[0m\n\u001b[0;31m    print(list(x for x in range(0, 101) if x % 2 != 0)). # The result shows that\u001b[0m\n\u001b[0m                                                         ^\u001b[0m\n\u001b[0;31mSyntaxError\u001b[0m\u001b[0;31m:\u001b[0m invalid syntax\n"
     ]
    }
   ],
   "source": [
    "print(list(x for x in range(0, 101) if x % 2 != 0)). # The result shows that the period will cause a syntax. THe period sign is generally reserved for accessing methods/attributes of an instance of a class or functions in a model. (From https://www.quora.com/In-Python-coding-what-if-you-put-a-period-at-the-end-of-a-statement)"
   ]
  },
  {
   "cell_type": "code",
   "execution_count": 17,
   "id": "alive-franchise",
   "metadata": {},
   "outputs": [],
   "source": [
    "x = 1. # However, if the period is at the end of a number, the interpreter will read the number as a float (one decimal float number)."
   ]
  },
  {
   "cell_type": "markdown",
   "id": "running-compensation",
   "metadata": {},
   "source": [
    "- In math notation you can multiply x and y like this: x y. What happens if you try that in Python?"
   ]
  },
  {
   "cell_type": "code",
   "execution_count": 24,
   "id": "charitable-ultimate",
   "metadata": {},
   "outputs": [
    {
     "ename": "SyntaxError",
     "evalue": "invalid syntax (<ipython-input-24-b11ed1e0aba0>, line 1)",
     "output_type": "error",
     "traceback": [
      "\u001b[0;36m  File \u001b[0;32m\"<ipython-input-24-b11ed1e0aba0>\"\u001b[0;36m, line \u001b[0;32m1\u001b[0m\n\u001b[0;31m    x = 3; y = 4; print(x y)\u001b[0m\n\u001b[0m                          ^\u001b[0m\n\u001b[0;31mSyntaxError\u001b[0m\u001b[0;31m:\u001b[0m invalid syntax\n"
     ]
    }
   ],
   "source": [
    "x = 3; y = 4; print(x y) # The result shows that the x y is invalid and it does not have any meaning in Python."
   ]
  },
  {
   "cell_type": "markdown",
   "id": "advanced-globe",
   "metadata": {},
   "source": [
    "# Exercise 2"
   ]
  },
  {
   "cell_type": "markdown",
   "id": "waiting-machinery",
   "metadata": {},
   "source": [
    "1. The volume of a sphere with radius r is 4/3 π r^3. What is the volume of a sphere with radius 5?"
   ]
  },
  {
   "cell_type": "code",
   "execution_count": 27,
   "id": "broken-poland",
   "metadata": {},
   "outputs": [
    {
     "name": "stdout",
     "output_type": "stream",
     "text": [
      "523.5987755982989\n"
     ]
    }
   ],
   "source": [
    "import math\n",
    "math.pi\n",
    "r = 5\n",
    "sphere = 4/3 * math.pi\n",
    "volume_r5 = sphere * r**3\n",
    "print(volume_r5)"
   ]
  },
  {
   "cell_type": "markdown",
   "id": "herbal-leone",
   "metadata": {},
   "source": [
    "2. Suppose the cover price of a book is $24.95, but bookstores get a 40% discount. Shipping costs $3 for the first copy and 75 cents for each additional copy. What is the total wholesale cost for 60 copies?"
   ]
  },
  {
   "cell_type": "code",
   "execution_count": 51,
   "id": "certified-mistake",
   "metadata": {},
   "outputs": [
    {
     "ename": "SyntaxError",
     "evalue": "invalid syntax (<ipython-input-51-32ccfaf5faf7>, line 7)",
     "output_type": "error",
     "traceback": [
      "\u001b[0;36m  File \u001b[0;32m\"<ipython-input-51-32ccfaf5faf7>\"\u001b[0;36m, line \u001b[0;32m7\u001b[0m\n\u001b[0;31m    if copy_num = 1:\u001b[0m\n\u001b[0m                ^\u001b[0m\n\u001b[0;31mSyntaxError\u001b[0m\u001b[0;31m:\u001b[0m invalid syntax\n"
     ]
    }
   ],
   "source": [
    "cover_price = 24.95\n",
    "discount = 0.60\n",
    "price = cover_price * discount\n",
    "first_shipping_cost = 3\n",
    "additional_shipping_cost = 0.75\n",
    "copy_num = 60\n",
    "if copy_num = 1:\n",
    "    total_wholesale_cost = price + first_shipping_cost\n",
    "    elif copy_num >1:\n",
    "        total_wholesale_cost = price * copy_num + first_shipping_cost + (copy_num - 1) * additional_shipping_cost\n",
    "        else:\n",
    "            total_wholesale_cost = 0\n",
    "print('The total wholesale cost for 60 copies:')\n",
    "total_wholesale_cost = \"${:,.2f}\".format(amount)\n",
    "print(total_wholesale_cost)\n",
    "\n",
    "# Hi Qunshan, I still do not know what's wrong with my codes after I tried to change the 'if copy_num' name many times. Would you please tell me the mistakes of my codes?"
   ]
  },
  {
   "cell_type": "code",
   "execution_count": 60,
   "id": "played-candidate",
   "metadata": {},
   "outputs": [
    {
     "name": "stdout",
     "output_type": "stream",
     "text": [
      "The total wholesale cost for 60 copies:\n"
     ]
    },
    {
     "data": {
      "text/plain": [
       "'$ 945.450'"
      ]
     },
     "execution_count": 60,
     "metadata": {},
     "output_type": "execute_result"
    }
   ],
   "source": [
    "# I used another way to do question 2\n",
    "cover_price = 24.95\n",
    "discount = 0.60\n",
    "price = cover_price * discount\n",
    "first_shipping_cost = 3\n",
    "additional_shipping_cost = 0.75\n",
    "copy_num = 60\n",
    "total_wholesale_cost = price * copy_num + first_shipping_cost + additional_shipping_cost * (copy_num - 1)\n",
    "print('The total wholesale cost for 60 copies:')\n",
    "\"${: .3f}\".format(total_wholesale_cost)"
   ]
  },
  {
   "cell_type": "markdown",
   "id": "continent-vocabulary",
   "metadata": {},
   "source": [
    "3. If I leave my house at 6:52 am and run 1 mile at an easy pace (8:15 per mile), then 3 miles at tempo (7:12 per mile) and 1 mile at easy pace again, what time do I get home for breakfast?"
   ]
  },
  {
   "cell_type": "code",
   "execution_count": 115,
   "id": "fourth-vaccine",
   "metadata": {},
   "outputs": [
    {
     "name": "stdout",
     "output_type": "stream",
     "text": [
      "The time when I get home for breakfast is at: 7:30:06\n"
     ]
    }
   ],
   "source": [
    "import datetime\n",
    "leave_house_time = datetime.timedelta(hours = 6, minutes = 52, seconds = 0)\n",
    "ep_time = 2 * datetime.timedelta(hours = 0, minutes = 8, seconds = 15)\n",
    "tempo_time = 3 * datetime.timedelta(hours = 0, minutes = 7, seconds = 12)\n",
    "breakfast_time = tempo_time + ep_time + leave_house_time\n",
    "print('The time when I get home for breakfast is at:', breakfast_time)"
   ]
  }
 ],
 "metadata": {
  "kernelspec": {
   "display_name": "Python 3",
   "language": "python",
   "name": "python3"
  },
  "language_info": {
   "codemirror_mode": {
    "name": "ipython",
    "version": 3
   },
   "file_extension": ".py",
   "mimetype": "text/x-python",
   "name": "python",
   "nbconvert_exporter": "python",
   "pygments_lexer": "ipython3",
   "version": "3.9.1"
  }
 },
 "nbformat": 4,
 "nbformat_minor": 5
}
